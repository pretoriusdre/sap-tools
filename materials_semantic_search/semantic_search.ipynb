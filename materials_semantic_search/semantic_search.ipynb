{
 "cells": [
  {
   "cell_type": "markdown",
   "metadata": {},
   "source": [
    "### SAP Materials data - Semantic Search\n",
    "\n",
    "Andre Pretorius 2023-10-15\n",
    "This file performs semantic search of SAP materials data. To do this, it builds transformer embeddings on the reference dataset, and compares a given search term to these embeddings using a cosine similarity metric.\n"
   ]
  },
  {
   "cell_type": "code",
   "execution_count": 4,
   "metadata": {},
   "outputs": [],
   "source": [
    "import pandas as pd\n",
    "from sentence_transformers import SentenceTransformer\n",
    "from sklearn.metrics.pairwise import cosine_similarity\n",
    "import time\n",
    "import pickle\n",
    "from pathlib import Path"
   ]
  },
  {
   "cell_type": "code",
   "execution_count": 2,
   "metadata": {},
   "outputs": [],
   "source": [
    "# This cell is not used here, it is just an FYI on how to collect the materials data from SAP.\n",
    "# Raw tables can be exported with SAP transaction SE16 if they are not part of a data pipeline.\n",
    "\n",
    "materials_tables = {\n",
    "    'MARA': 'General Material Data This table contains general information about materials, such as material number, material type, industry sector, and creation date.',\n",
    "    'MAKT': 'Material Descriptions This table stores material descriptions in different languages.',\n",
    "    'MARC': 'Plant Data for Material This table contains plant-specific data for materials, such as plant, storage location, and procurement type.',\n",
    "    'MARD': 'Storage Location Data for Material This table stores information about material stock at different storage locations within a plant.',\n",
    "    'MBEW': 'Material Valuation This table contains valuation data for materials, such as standard price, moving average price, and price unit.',\n",
    "    'MBEW': 'Material Valuation This table contains valuation data for materials, such as standard price, moving average price, and price unit.',\n",
    "    'MEAN': 'International Article Number (EAN/UPC) for Material This table stores the International Article Number (EAN) or Universal Product Code (UPC) for materials.',\n",
    "    'MLGN': 'Material Data for Each Warehouse Number This table contains warehouse-specific material data, such as warehouse number and storage type.',\n",
    "    'MLGT': 'Material Data for Each Storage Type This table stores material data for each storage type within a warehouse, such as storage bin and maximum storage capacity.',\n",
    "    'MVKE': 'Sales Data for Material This table contains sales-related data for materials, such as sales organization, distribution channel, and minimum order quantity.',\n",
    "}\n",
    "\n",
    "schema_name = 'silver'\n",
    "\n",
    "query = \"\"\"\n",
    "    SELECT\n",
    "    MARA.MANDT, MARA.MATNR, MARA.ERSDA, MARA.ERNAM, MARA.LAEDA, MARA.AENAM, MARA.MTART,\n",
    "    MARA.MBRSH, MARA.MATKL, MARA.MEINS, MARA.BSTME, MARA.PTEXT, MAKT.MAKTX\n",
    "    FROM {schema_name}.MARA\n",
    "    LEFT JOIN {schema_name}.MAKT ON MARA.MATNR = MAKT.MATNR\n",
    "    WHERE MAKT.SPRAS = 'E'\n",
    "    \"\"\""
   ]
  },
  {
   "cell_type": "code",
   "execution_count": null,
   "metadata": {},
   "outputs": [],
   "source": [
    "# Consolidated materials data from SAP exported from the datamanagement SQL scripts.\n",
    "# This data is proprietary so has not been included here.\n",
    "\n",
    "materials_data_path = Path('proprietary') / 'materials_data.xlsx'\n",
    "df = pd.read_excel(materials_data_path)\n",
    "total_number_of_materials = len(df)\n",
    "total_number_of_materials"
   ]
  },
  {
   "cell_type": "code",
   "execution_count": 7,
   "metadata": {},
   "outputs": [],
   "source": [
    "# Cleanup the data, or get a smaller subset for testing\n",
    "\n",
    "def sanitise_data(df, target_items=None):\n",
    "    df = df.copy()\n",
    "    df['encoding_text'] = (\n",
    "        df['PTEXT'].astype(str).str.upper() + '; ' + df['MAKTX'].astype(str).str.upper()\n",
    "    )\n",
    "    df = df[~df['encoding_text'].str.contains('BLOCKED')]\n",
    "\n",
    "    if target_items:\n",
    "        current_len = len(df)\n",
    "        slice_interval = max(current_len // target_items, 1)\n",
    "        df = df.iloc[::slice_interval].reset_index()\n",
    "\n",
    "    return df"
   ]
  },
  {
   "cell_type": "code",
   "execution_count": 8,
   "metadata": {},
   "outputs": [],
   "source": [
    "# Functions to get the embeddings for semantic search\n",
    "embeddings_file = Path('proprietary') / 'embeddings.pickle'\n",
    "\n",
    "model = SentenceTransformer('paraphrase-distilroberta-base-v1')\n",
    "\n",
    "\n",
    "def get_duration_string(duration):\n",
    "    hours, remainder = divmod(duration, 3600)\n",
    "    minutes, seconds = divmod(remainder, 60)\n",
    "    return f\"{int(hours)} hours, {int(minutes)} minutes, {int(seconds)} seconds\"\n",
    "\n",
    "\n",
    "def encode_and_save_embeddings(df, encoding_column, embeddings_file):\n",
    "    start_time = time.time()\n",
    "\n",
    "    embeddings = model.encode(df[encoding_column])\n",
    "\n",
    "    with open(embeddings_file, 'wb') as f:\n",
    "        pickle.dump(embeddings, f)\n",
    "\n",
    "    end_time = time.time()\n",
    "    duration = end_time - start_time\n",
    "    num_embeddings = len(df)\n",
    "\n",
    "    predicted_duration = duration * total_number_of_materials / num_embeddings\n",
    "    print(\n",
    "        f\"Embeddings completed for {num_embeddings} entries in {get_duration_string(duration)}\"\n",
    "    )\n",
    "    print(\n",
    "        f\"Predicted time for all {total_number_of_materials} entries is {get_duration_string(predicted_duration)}\"\n",
    "    )\n",
    "\n",
    "    return embeddings\n",
    "\n",
    "\n",
    "def load_embeddings(embeddings_file):\n",
    "    with open(embeddings_file, 'rb') as f:\n",
    "        embeddings = pickle.load(f)\n",
    "    return embeddings"
   ]
  },
  {
   "cell_type": "code",
   "execution_count": null,
   "metadata": {},
   "outputs": [],
   "source": [
    "# Perform the embeddings. Pass a value to target_items to just encode a subset for testing purposes.\n",
    "df_short = sanitise_data(df, target_items=None)\n",
    "\n",
    "res = input('Type X to reload embeddings and save to disk.')\n",
    "if res.upper() == 'X':\n",
    "    embeddings = encode_and_save_embeddings(\n",
    "        df_short, encoding_column='encoding_text', embeddings_file=embeddings_file\n",
    "    )\n",
    "else:\n",
    "    embeddings = load_embeddings(embeddings_file)"
   ]
  },
  {
   "cell_type": "code",
   "execution_count": 41,
   "metadata": {},
   "outputs": [],
   "source": [
    "def semantic_search(df, query, embeddings, top_n=10):\n",
    "    print(len(embeddings))\n",
    "    query = query.upper()\n",
    "    query_embedding = model.encode([query])\n",
    "    similarity_scores = cosine_similarity(query_embedding, embeddings)\n",
    "    sorted_indices = similarity_scores.argsort()[0][::-1][:top_n]\n",
    "    top_scores = similarity_scores[0][sorted_indices]\n",
    "\n",
    "    results = df.loc[sorted_indices].copy()\n",
    "    results['similarity_score'] = top_scores\n",
    "    return results[['MATNR', 'PTEXT', 'MAKTX', 'similarity_score']]\n",
    "\n",
    "\n",
    "def literal_search(df, query):\n",
    "    df_results = df.copy()\n",
    "    query_terms = [item.strip(' .,').upper() for item in query.split(' ')]\n",
    "    df_results['search_terms'] = df_results['encoding_text'].astype(str)\n",
    "    df_results['search_mask'] = True\n",
    "    for query_term in query_terms:\n",
    "        df_results['search_mask'] = df_results['search_mask'] & df_results[\n",
    "            'encoding_text'\n",
    "        ].str.contains(query_term)\n",
    "\n",
    "    return df_results[df_results['search_mask']][['MATNR', 'PTEXT', 'MAKTX']]"
   ]
  },
  {
   "cell_type": "markdown",
   "metadata": {},
   "source": [
    "#### Semantic search\n"
   ]
  },
  {
   "cell_type": "code",
   "execution_count": null,
   "metadata": {},
   "outputs": [],
   "source": [
    "query = \"gasket spiral\"\n",
    "results = semantic_search(df_short, query, embeddings)\n",
    "print(\"Top matches using semantic search:\")\n",
    "results"
   ]
  },
  {
   "cell_type": "markdown",
   "metadata": {},
   "source": [
    "(ouput removed)\n"
   ]
  },
  {
   "cell_type": "markdown",
   "metadata": {
    "tags": []
   },
   "source": [
    "#### Literal search\n"
   ]
  },
  {
   "cell_type": "code",
   "execution_count": null,
   "metadata": {},
   "outputs": [],
   "source": [
    "results = literal_search(df_short, query)\n",
    "print(\"Top matches using literal search:\")\n",
    "results"
   ]
  },
  {
   "cell_type": "markdown",
   "metadata": {},
   "source": [
    "(ouput removed)\n"
   ]
  }
 ],
 "metadata": {
  "kernelspec": {
   "display_name": "Python 3 (ipykernel)",
   "language": "python",
   "name": "python3"
  },
  "language_info": {
   "codemirror_mode": {
    "name": "ipython",
    "version": 3
   },
   "file_extension": ".py",
   "mimetype": "text/x-python",
   "name": "python",
   "nbconvert_exporter": "python",
   "pygments_lexer": "ipython3",
   "version": "3.11.5"
  }
 },
 "nbformat": 4,
 "nbformat_minor": 4
}
